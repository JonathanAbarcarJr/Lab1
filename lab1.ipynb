{
 "cells": [
  {
   "cell_type": "markdown",
   "metadata": {},
   "source": [
    "# Import Arcpy"
   ]
  },
  {
   "cell_type": "code",
   "execution_count": 1,
   "metadata": {},
   "outputs": [],
   "source": [
    "import sys\n",
    "sys.path.append('C:\\\\Program Files (x86)\\\\ArcGIS\\\\Desktop10.5\\\\bin')\n",
    "sys.path.append('C:\\\\Program Files (x86)\\\\ArcGIS\\\\Desktop10.5\\\\arcpy')\n",
    "sys.path.append('C:\\\\Program Files (x86)\\\\ArcGIS\\\\Desktop10.5\\\\ArcToolbox\\\\Scripts')\n",
    "import arcpy"
   ]
  },
  {
   "cell_type": "markdown",
   "metadata": {},
   "source": [
    "# OSGeo4W"
   ]
  },
  {
   "cell_type": "code",
   "execution_count": 2,
   "metadata": {},
   "outputs": [],
   "source": [
    "from subprocess import call\n",
    "import os\n",
    "\n",
    "os.environ[\"GDAL_DATA\"] = \"C:\\\\OSGeo4W\\\\share\\\\gdal\"\n",
    "os.environ[\"GDAL_DRIVER_PATH\"] = \"C:\\\\OSGeo4W\\\\bin\\\\gdalplugins\"\n",
    "os.environ[\"PROJ_LIB\"] = \"C:\\\\OSGeo4W\\\\share\\\\proj\"\n",
    "os.environ[\"PATH\"] = \"C:\\\\OSGeo4W\\\\bin;\"+os.environ[\"PATH\"]+\";C:\\\\OSGeo4W\\\\apps\\\\msys\\\\bin;C:\\\\OSGeo4W\\\\apps\\\\Python27\\\\Scripts\""
   ]
  },
  {
   "cell_type": "markdown",
   "metadata": {},
   "source": [
    "I need to convert the FIPS county codes used within the shapefile, with their actual county names. In order to do so, I will be utilizing the data table provided in the lab. Here I am storing the path of the dBase database file within a variable for easy access. I am then printing the name of each field."
   ]
  },
  {
   "cell_type": "code",
   "execution_count": 3,
   "metadata": {},
   "outputs": [
    {
     "name": "stdout",
     "output_type": "stream",
     "text": [
      "OID\n",
      "CountyName\n",
      "FIPSCounty\n"
     ]
    }
   ],
   "source": [
    "fips = \"C:\\\\Users\\\\rjcortez\\\\Downloads\\\\WashingtonFIPS.dbf\"\n",
    "fieldlist = arcpy.ListFields(fips)\n",
    "for curr_field in fieldlist:\n",
    "    print curr_field.name"
   ]
  },
  {
   "cell_type": "markdown",
   "metadata": {},
   "source": [
    "Here I am creating a SearchCursor in order to read the dBase database file. I then use a for loop in order to print out what county name each of the FIPS county codes correspond to as well as their OID. This is just to make sure I have the correct names and FIPS."
   ]
  },
  {
   "cell_type": "code",
   "execution_count": 4,
   "metadata": {
    "scrolled": true
   },
   "outputs": [
    {
     "name": "stdout",
     "output_type": "stream",
     "text": [
      "0 | Adams = 001\n",
      "1 | Asotin = 003\n",
      "2 | Benton = 005\n",
      "3 | Chelan = 007\n",
      "4 | Clallam = 009\n",
      "5 | Clark = 011\n",
      "6 | Columbia = 013\n",
      "7 | Cowlitz = 015\n",
      "8 | Douglas = 017\n",
      "9 | Ferry = 019\n",
      "10 | Franklin = 021\n",
      "11 | Garfield = 023\n",
      "12 | Grant = 025\n",
      "13 | Grays Harbor = 027\n",
      "14 | Island = 029\n",
      "15 | Jefferson = 031\n",
      "16 | King = 033\n",
      "17 | Kitsap = 035\n",
      "18 | Kittitas = 037\n",
      "19 | Klickitat = 039\n",
      "20 | Lewis = 041\n",
      "21 | Lincoln = 043\n",
      "22 | Mason = 045\n",
      "23 | Okanogan = 047\n",
      "24 | Pacific = 049\n",
      "25 | Pend Oreille = 051\n",
      "26 | Pierce = 053\n",
      "27 | San Juan = 055\n",
      "28 | Skagit = 057\n",
      "29 | Skamania = 059\n",
      "30 | Snohomish = 061\n",
      "31 | Spokane = 063\n",
      "32 | Stevens = 065\n",
      "33 | Thurston = 067\n",
      "34 | Wahkiakum = 069\n",
      "35 | Walla Walla = 071\n",
      "36 | Whatcom = 073\n",
      "37 | Whitman = 075\n",
      "38 | Yakima = 077\n"
     ]
    }
   ],
   "source": [
    "cursor = arcpy.da.SearchCursor(fips, [\"OID\", \"CountyName\", \"FIPSCounty\"])\n",
    "for row in cursor:\n",
    "    print str(row[0]) + \" | \" + row[1] + \" = \" + row[2]\n",
    "del cursor"
   ]
  },
  {
   "cell_type": "markdown",
   "metadata": {},
   "source": [
    "I created another search cursor in order to parse through the file. I also created two empty lists. With a for loop, I store the data from the file into the lists. Then with another for loop, I print the list simultaneously."
   ]
  },
  {
   "cell_type": "code",
   "execution_count": 5,
   "metadata": {},
   "outputs": [
    {
     "name": "stdout",
     "output_type": "stream",
     "text": [
      "FIPS = Name\n",
      "001 = Adams\n",
      "003 = Asotin\n",
      "005 = Benton\n",
      "007 = Chelan\n",
      "009 = Clallam\n",
      "011 = Clark\n",
      "013 = Columbia\n",
      "015 = Cowlitz\n",
      "017 = Douglas\n",
      "019 = Ferry\n",
      "021 = Franklin\n",
      "023 = Garfield\n",
      "025 = Grant\n",
      "027 = Grays Harbor\n",
      "029 = Island\n",
      "031 = Jefferson\n",
      "033 = King\n",
      "035 = Kitsap\n",
      "037 = Kittitas\n",
      "039 = Klickitat\n",
      "041 = Lewis\n",
      "043 = Lincoln\n",
      "045 = Mason\n",
      "047 = Okanogan\n",
      "049 = Pacific\n",
      "051 = Pend Oreille\n",
      "053 = Pierce\n",
      "055 = San Juan\n",
      "057 = Skagit\n",
      "059 = Skamania\n",
      "061 = Snohomish\n",
      "063 = Spokane\n",
      "065 = Stevens\n",
      "067 = Thurston\n",
      "069 = Wahkiakum\n",
      "071 = Walla Walla\n",
      "073 = Whatcom\n",
      "075 = Whitman\n",
      "077 = Yakima\n"
     ]
    }
   ],
   "source": [
    "cursor = arcpy.da.SearchCursor(fips, [\"OID\", \"CountyName\", \"FIPSCounty\"])\n",
    "county_names = []\n",
    "county_fips = []\n",
    "\n",
    "for row in cursor:\n",
    "    county_fips.insert(row[0], str(row[2]))\n",
    "    county_names.insert(row[0], str(row[1]))\n",
    "del cursor\n",
    "\n",
    "print \"FIPS = Name\"\n",
    "for index in range(len(county_fips)):\n",
    "    print county_fips[index] + \" = \" + county_names[index]"
   ]
  },
  {
   "cell_type": "markdown",
   "metadata": {},
   "source": [
    "I created a variable containing the path of the input shapefile. I add a new field containing the county name before printing out a list of all field names to make sure the field was added properly."
   ]
  },
  {
   "cell_type": "code",
   "execution_count": 6,
   "metadata": {},
   "outputs": [
    {
     "name": "stdout",
     "output_type": "stream",
     "text": [
      "C:\\Users\\rjcortez\\Downloads\\saep_bg10\\saep_bg10.shp\n",
      "\n",
      "FID\n",
      "Shape\n",
      "STATEFP10\n",
      "COUNTYFP10\n",
      "TRACTCE10\n",
      "BLKGRPCE10\n",
      "GEOID10\n",
      "NAMELSAD10\n",
      "MTFCC10\n",
      "FUNCSTAT10\n",
      "INTPTLON10\n",
      "INTPTLAT10\n",
      "ALANDM\n",
      "AWATERM\n",
      "ALANDMI\n",
      "AWATERMI\n",
      "Version\n",
      "POP2000\n",
      "POP2001\n",
      "POP2002\n",
      "POP2003\n",
      "POP2004\n",
      "POP2005\n",
      "POP2006\n",
      "POP2007\n",
      "POP2008\n",
      "POP2009\n",
      "POP2010\n",
      "POP2011\n",
      "POP2012\n",
      "POP2013\n",
      "POP2014\n",
      "POP2015\n",
      "POP2016\n",
      "POP2017\n",
      "CPOP00_10\n",
      "PCPOP00_10\n",
      "CPOP10_17\n",
      "PCPOP10_17\n",
      "HHP2000\n",
      "HHP2001\n",
      "HHP2002\n",
      "HHP2003\n",
      "HHP2004\n",
      "HHP2005\n",
      "HHP2006\n",
      "HHP2007\n",
      "HHP2008\n",
      "HHP2009\n",
      "HHP2010\n",
      "HHP2011\n",
      "HHP2012\n",
      "HHP2013\n",
      "HHP2014\n",
      "HHP2015\n",
      "HHP2016\n",
      "HHP2017\n",
      "CHHP00_10\n",
      "PCHHP00_10\n",
      "CHHP10_17\n",
      "PCHHP10_17\n",
      "GQ2000\n",
      "GQ2001\n",
      "GQ2002\n",
      "GQ2003\n",
      "GQ2004\n",
      "GQ2005\n",
      "GQ2006\n",
      "GQ2007\n",
      "GQ2008\n",
      "GQ2009\n",
      "GQ2010\n",
      "GQ2011\n",
      "GQ2012\n",
      "GQ2013\n",
      "GQ2014\n",
      "GQ2015\n",
      "GQ2016\n",
      "GQ2017\n",
      "CGQ00_10\n",
      "PCGQ00_10\n",
      "CGQ10_17\n",
      "PCGQ10_17\n",
      "HU2000\n",
      "HU2001\n",
      "HU2002\n",
      "HU2003\n",
      "HU2004\n",
      "HU2005\n",
      "HU2006\n",
      "HU2007\n",
      "HU2008\n",
      "HU2009\n",
      "HU2010\n",
      "HU2011\n",
      "HU2012\n",
      "HU2013\n",
      "HU2014\n",
      "HU2015\n",
      "HU2016\n",
      "HU2017\n",
      "CHU00_10\n",
      "PCHU00_10\n",
      "CHU10_17\n",
      "PCHU10_17\n",
      "OHU2000\n",
      "OHU2001\n",
      "OHU2002\n",
      "OHU2003\n",
      "OHU2004\n",
      "OHU2005\n",
      "OHU2006\n",
      "OHU2007\n",
      "OHU2008\n",
      "OHU2009\n",
      "OHU2010\n",
      "OHU2011\n",
      "OHU2012\n",
      "OHU2013\n",
      "OHU2014\n",
      "OHU2015\n",
      "OHU2016\n",
      "OHU2017\n",
      "COHU00_10\n",
      "PCOHU00_10\n",
      "COHU10_17\n",
      "PCOHU10_17\n",
      "COUNTYNAME\n"
     ]
    }
   ],
   "source": [
    "shapefile_input = \"C:\\\\Users\\\\rjcortez\\\\Downloads\\\\saep_bg10\\\\saep_bg10.shp\"\n",
    "arcpy.AddField_management(shapefile_input, \"COUNTYNAME\", \"STRING\")\n",
    "\n",
    "fieldlist = arcpy.ListFields(shapefile_input)\n",
    "\n",
    "for curr_field in fieldlist:\n",
    "    print curr_field.name"
   ]
  },
  {
   "cell_type": "markdown",
   "metadata": {},
   "source": [
    "# Filling COUNTYNAME\n",
    "\n",
    "I  create an UpdateCursor in order to fill in the COUNTYNAME field within the shapefile. The first for loop parses through the imported data from the file. The second for loop along with the if statement are checking whether the county FIPS from the row[0] matches with any of the FIPS from my list, county_fips. If it matches, then it changes row[1] to the county name. The for loop then updates the shapefile with the county name into the field's row."
   ]
  },
  {
   "cell_type": "code",
   "execution_count": 8,
   "metadata": {},
   "outputs": [],
   "source": [
    "cursor = arcpy.da.UpdateCursor(shapefile_input, [\"COUNTYFP10\", \"COUNTYNAME\"])\n",
    "\n",
    "for row in cursor:\n",
    "    for index in range(len(county_fips)):\n",
    "        if row[0] == county_fips[index]:\n",
    "            row[1] = county_names[index]\n",
    "        cursor.updateRow(row)\n",
    "del cursor"
   ]
  },
  {
   "cell_type": "markdown",
   "metadata": {},
   "source": [
    "# File Path\n",
    "The code uses a while loop along with an if statement to determine the path for the shapefile_input, while removing the actual file name. The point discovered is then used in the next bit of code to duplicate the shapefile and rename each shapefile after each of the counties."
   ]
  },
  {
   "cell_type": "code",
   "execution_count": 10,
   "metadata": {},
   "outputs": [],
   "source": [
    "point = -1\n",
    "count = 0\n",
    "while (count < len(shapefile_input)):\n",
    "    if shapefile_input[point] != \"\\\\\":\n",
    "        point -= 1\n",
    "        count += 1\n",
    "    else:\n",
    "        break"
   ]
  },
  {
   "cell_type": "markdown",
   "metadata": {},
   "source": [
    "# County Shapefiles\n",
    "Using a for loop, this block of code creates the necessary shapefiles named after each county within the state while also using a SQL statement to copy rows matching to the county into the appropriate shapefile."
   ]
  },
  {
   "cell_type": "code",
   "execution_count": 16,
   "metadata": {},
   "outputs": [
    {
     "ename": "ExecuteError",
     "evalue": "Failed to execute. Parameters are not valid.\nERROR 000725: Output Feature Class: Dataset C:\\Users\\rjcortez\\Downloads\\saep_bg10\\Adams.shp already exists.\nFailed to execute (Select).\n",
     "output_type": "error",
     "traceback": [
      "\u001b[1;31m---------------------------------------------------------------------------\u001b[0m",
      "\u001b[1;31mExecuteError\u001b[0m                              Traceback (most recent call last)",
      "\u001b[1;32m<ipython-input-16-d480f4b7db1d>\u001b[0m in \u001b[0;36m<module>\u001b[1;34m()\u001b[0m\n\u001b[0;32m      3\u001b[0m     arcpy.Select_analysis(shapefile_input,\n\u001b[0;32m      4\u001b[0m                          \u001b[0mnewname\u001b[0m\u001b[1;33m,\u001b[0m\u001b[1;33m\u001b[0m\u001b[0m\n\u001b[1;32m----> 5\u001b[1;33m                          \"\\\"COUNTYNAME\\\" =\" + \"'\" + county_names[index] + \"'\")\n\u001b[0m",
      "\u001b[1;32mC:\\Program Files (x86)\\ArcGIS\\Desktop10.5\\arcpy\\arcpy\\analysis.pyc\u001b[0m in \u001b[0;36mSelect\u001b[1;34m(in_features, out_feature_class, where_clause)\u001b[0m\n\u001b[0;32m     88\u001b[0m         \u001b[1;32mreturn\u001b[0m \u001b[0mretval\u001b[0m\u001b[1;33m\u001b[0m\u001b[0m\n\u001b[0;32m     89\u001b[0m     \u001b[1;32mexcept\u001b[0m \u001b[0mException\u001b[0m \u001b[1;32mas\u001b[0m \u001b[0me\u001b[0m\u001b[1;33m:\u001b[0m\u001b[1;33m\u001b[0m\u001b[0m\n\u001b[1;32m---> 90\u001b[1;33m         \u001b[1;32mraise\u001b[0m \u001b[0me\u001b[0m\u001b[1;33m\u001b[0m\u001b[0m\n\u001b[0m\u001b[0;32m     91\u001b[0m \u001b[1;33m\u001b[0m\u001b[0m\n\u001b[0;32m     92\u001b[0m \u001b[1;33m@\u001b[0m\u001b[0mgptooldoc\u001b[0m\u001b[1;33m(\u001b[0m\u001b[1;34m'Split_analysis'\u001b[0m\u001b[1;33m,\u001b[0m \u001b[0mNone\u001b[0m\u001b[1;33m)\u001b[0m\u001b[1;33m\u001b[0m\u001b[0m\n",
      "\u001b[1;31mExecuteError\u001b[0m: Failed to execute. Parameters are not valid.\nERROR 000725: Output Feature Class: Dataset C:\\Users\\rjcortez\\Downloads\\saep_bg10\\Adams.shp already exists.\nFailed to execute (Select).\n"
     ]
    }
   ],
   "source": [
    "for index in range (len(county_fips)):\n",
    "    newname = shapefile_input[0:point + 1] + county_names[index] + \".shp\"\n",
    "    arcpy.Select_analysis(shapefile_input,\n",
    "                         newname,\n",
    "                         \"\\\"COUNTYNAME\\\" =\" + \"'\" + county_names[index] + \"'\")"
   ]
  },
  {
   "cell_type": "markdown",
   "metadata": {},
   "source": [
    "# GeoJSON\n",
    "Using a for loop, I iterate through the newly created shapefiles, and using the OSGeo4W tool, convert them into GeoJSON files."
   ]
  },
  {
   "cell_type": "code",
   "execution_count": 18,
   "metadata": {},
   "outputs": [
    {
     "name": "stdout",
     "output_type": "stream",
     "text": [
      "C:\\Users\\rjcortez\\Downloads\\saep_bg10\\Adams.shp DONE\n",
      "C:\\Users\\rjcortez\\Downloads\\saep_bg10\\Asotin.shp DONE\n",
      "C:\\Users\\rjcortez\\Downloads\\saep_bg10\\Benton.shp DONE\n",
      "C:\\Users\\rjcortez\\Downloads\\saep_bg10\\Chelan.shp DONE\n",
      "C:\\Users\\rjcortez\\Downloads\\saep_bg10\\Clallam.shp DONE\n",
      "C:\\Users\\rjcortez\\Downloads\\saep_bg10\\Clark.shp DONE\n",
      "C:\\Users\\rjcortez\\Downloads\\saep_bg10\\Columbia.shp DONE\n",
      "C:\\Users\\rjcortez\\Downloads\\saep_bg10\\Cowlitz.shp DONE\n",
      "C:\\Users\\rjcortez\\Downloads\\saep_bg10\\Douglas.shp DONE\n",
      "C:\\Users\\rjcortez\\Downloads\\saep_bg10\\Ferry.shp DONE\n",
      "C:\\Users\\rjcortez\\Downloads\\saep_bg10\\Franklin.shp DONE\n",
      "C:\\Users\\rjcortez\\Downloads\\saep_bg10\\Garfield.shp DONE\n",
      "C:\\Users\\rjcortez\\Downloads\\saep_bg10\\Grant.shp DONE\n",
      "C:\\Users\\rjcortez\\Downloads\\saep_bg10\\Grays Harbor.shp DONE\n",
      "C:\\Users\\rjcortez\\Downloads\\saep_bg10\\Island.shp DONE\n",
      "C:\\Users\\rjcortez\\Downloads\\saep_bg10\\Jefferson.shp DONE\n",
      "C:\\Users\\rjcortez\\Downloads\\saep_bg10\\King.shp DONE\n",
      "C:\\Users\\rjcortez\\Downloads\\saep_bg10\\Kitsap.shp DONE\n",
      "C:\\Users\\rjcortez\\Downloads\\saep_bg10\\Kittitas.shp DONE\n",
      "C:\\Users\\rjcortez\\Downloads\\saep_bg10\\Klickitat.shp DONE\n",
      "C:\\Users\\rjcortez\\Downloads\\saep_bg10\\Lewis.shp DONE\n",
      "C:\\Users\\rjcortez\\Downloads\\saep_bg10\\Lincoln.shp DONE\n",
      "C:\\Users\\rjcortez\\Downloads\\saep_bg10\\Mason.shp DONE\n",
      "C:\\Users\\rjcortez\\Downloads\\saep_bg10\\Okanogan.shp DONE\n",
      "C:\\Users\\rjcortez\\Downloads\\saep_bg10\\Pacific.shp DONE\n",
      "C:\\Users\\rjcortez\\Downloads\\saep_bg10\\Pend Oreille.shp DONE\n",
      "C:\\Users\\rjcortez\\Downloads\\saep_bg10\\Pierce.shp DONE\n",
      "C:\\Users\\rjcortez\\Downloads\\saep_bg10\\San Juan.shp DONE\n",
      "C:\\Users\\rjcortez\\Downloads\\saep_bg10\\Skagit.shp DONE\n",
      "C:\\Users\\rjcortez\\Downloads\\saep_bg10\\Skamania.shp DONE\n",
      "C:\\Users\\rjcortez\\Downloads\\saep_bg10\\Snohomish.shp DONE\n",
      "C:\\Users\\rjcortez\\Downloads\\saep_bg10\\Spokane.shp DONE\n",
      "C:\\Users\\rjcortez\\Downloads\\saep_bg10\\Stevens.shp DONE\n",
      "C:\\Users\\rjcortez\\Downloads\\saep_bg10\\Thurston.shp DONE\n",
      "C:\\Users\\rjcortez\\Downloads\\saep_bg10\\Wahkiakum.shp DONE\n",
      "C:\\Users\\rjcortez\\Downloads\\saep_bg10\\Walla Walla.shp DONE\n",
      "C:\\Users\\rjcortez\\Downloads\\saep_bg10\\Whatcom.shp DONE\n",
      "C:\\Users\\rjcortez\\Downloads\\saep_bg10\\Whitman.shp DONE\n",
      "C:\\Users\\rjcortez\\Downloads\\saep_bg10\\Yakima.shp DONE\n"
     ]
    }
   ],
   "source": [
    "for index in range (len(county_fips)):\n",
    "    path = shapefile_input[0:point + 1] + county_names[index]\n",
    "    call(['C:\\\\OSGeo4W\\\\bin\\\\ogr2ogr',\n",
    "      '-f','GeoJSON','-t_srs','WGS84',\n",
    "      '-s_srs','EPSG:2927',\n",
    "      path + '.geojson',\n",
    "      path + '.shp'])\n",
    "    print path + \".shp DONE\""
   ]
  },
  {
   "cell_type": "markdown",
   "metadata": {},
   "source": [
    "# 10 Largest Populations\n",
    "I create an empty list and then scale it to the amount of counties that exist. Then I create a search cursor to parse through the input file. Using nested for loops, I go through each county name, and compare it to each row. If the county name within the shapefile is the same as the name within the county name list, then the population of the row is added to the pop2017 list at the index that the county name exists."
   ]
  },
  {
   "cell_type": "code",
   "execution_count": null,
   "metadata": {},
   "outputs": [],
   "source": [
    "pop2017 = [0] * len(county_fips)\n",
    "cursor_search = arcpy.da.SearchCursor(shapefile_input, [\"COUNTYNAME\", \"POP2017\"])\n",
    "\n",
    "for index in range (len(county_fips)):\n",
    "    for row in cursor_search:\n",
    "        if row[0] == county_names[index]:\n",
    "            pop2017[index] += row[1]\n",
    "        else:\n",
    "            pass\n",
    "    cursor_search.reset()\n",
    "del cursor_search\n",
    "\n",
    "pop2017.sort(reverse = True)\n",
    "print \"Ten Largest Total Populations in 2017\"\n",
    "for i in range(0, 10):\n",
    "    print \"#\" + str(i + 1) + \": \" + str(pop2017[i])"
   ]
  }
 ],
 "metadata": {
  "kernelspec": {
   "display_name": "Python 2",
   "language": "python",
   "name": "python2"
  },
  "language_info": {
   "codemirror_mode": {
    "name": "ipython",
    "version": 2
   },
   "file_extension": ".py",
   "mimetype": "text/x-python",
   "name": "python",
   "nbconvert_exporter": "python",
   "pygments_lexer": "ipython2",
   "version": "2.7.14"
  }
 },
 "nbformat": 4,
 "nbformat_minor": 2
}
